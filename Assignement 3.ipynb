{
 "cells": [
  {
   "cell_type": "code",
   "execution_count": 27,
   "metadata": {},
   "outputs": [
    {
     "name": "stdout",
     "output_type": "stream",
     "text": [
      "Please enter an integer:5\n",
      "Please enter an integer:0\n",
      "Finally,I excuted!\n",
      "This is not allowed\n"
     ]
    }
   ],
   "source": [
    "def division():\n",
    "    try:\n",
    "        number_1=int(input('Please enter an integer:'))\n",
    "        number_2=int(input('Please enter an integer:'))\n",
    "    except:\n",
    "        print('Looks like you did not enter an integer!')\n",
    "        try:\n",
    "            number_1 = int(input(\"Try again-Please enter an integer: \"))\n",
    "            number_2=int(input('Please enter an integer:'))\n",
    "        except:\n",
    "            print(\"input was not valid\")\n",
    "    finally:\n",
    "        print(\"Finally,I excuted!\")\n",
    "    try:\n",
    "        print(number_1/number_2)\n",
    "    except:\n",
    "        print(\"This is not allowed\")\n",
    "division()"
   ]
  },
  {
   "cell_type": "code",
   "execution_count": 35,
   "metadata": {},
   "outputs": [
    {
     "name": "stdout",
     "output_type": "stream",
     "text": [
      "Americans play Baseball.\n",
      "Americans play Cricket.\n",
      "Americans watch Baseball.\n",
      "Americans watch Cricket.\n",
      "Indians play Baseball.\n",
      "Indians play Cricket.\n",
      "Indians watch Baseball.\n",
      "Indians watch Cricket.\n"
     ]
    }
   ],
   "source": [
    "subject=[\"Americans\",\"Indians\"]\n",
    "verbs=[\"play\",\"watch\"]\n",
    "objects=[\"Baseball\",\"Cricket\"]\n",
    "for i in subject:\n",
    "    for j in verbs:\n",
    "        for k in objects:\n",
    "            print(i+\" \"+j+\" \"+k+\".\")"
   ]
  },
  {
   "cell_type": "code",
   "execution_count": 109,
   "metadata": {},
   "outputs": [
    {
     "data": {
      "text/plain": [
       "array([[ 1,  1,  1,  1],\n",
       "       [ 4,  3,  2,  1],\n",
       "       [16,  9,  4,  1],\n",
       "       [64, 27,  8,  1]])"
      ]
     },
     "execution_count": 109,
     "metadata": {},
     "output_type": "execute_result"
    }
   ],
   "source": [
    "def vandermonde(generator, rank=None,increasing=None):\n",
    "    if rank is None:\n",
    "        rank = len(generator)\n",
    "        if increasing is True or None:\n",
    "            return (np.tile(generator,(rank,1)) ** np.array(range(rank)).reshape((rank,1))).astype(np.int32)\n",
    "    return (np.flip(np.tile(generator,(rank,1)),axis=1) ** np.array(range(rank)).reshape((rank,1))).astype(np.int32)\n",
    "\n",
    "vandermonde(generator=[1,2,3,4], rank=None,increasing=None)"
   ]
  },
  {
   "cell_type": "code",
   "execution_count": null,
   "metadata": {},
   "outputs": [],
   "source": []
  }
 ],
 "metadata": {
  "kernelspec": {
   "display_name": "Python 3",
   "language": "python",
   "name": "python3"
  },
  "language_info": {
   "codemirror_mode": {
    "name": "ipython",
    "version": 3
   },
   "file_extension": ".py",
   "mimetype": "text/x-python",
   "name": "python",
   "nbconvert_exporter": "python",
   "pygments_lexer": "ipython3",
   "version": "3.7.3"
  }
 },
 "nbformat": 4,
 "nbformat_minor": 4
}
